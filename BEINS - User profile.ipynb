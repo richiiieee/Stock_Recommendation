{
 "cells": [
  {
   "cell_type": "code",
   "execution_count": 29,
   "metadata": {},
   "outputs": [],
   "source": [
    "import pandas as pd\n",
    "import numpy as np\n",
    "\n",
    "import warnings\n",
    "warnings.filterwarnings(\"ignore\")\n",
    "pd.options.display.max_rows = 155000\n",
    "pd.options.display.max_columns = 500\n",
    "pd.options.display.float_format = '{:20,.2f}'.format\n",
    "seed = np.random.seed(66)"
   ]
  },
  {
   "cell_type": "code",
   "execution_count": 30,
   "metadata": {},
   "outputs": [],
   "source": [
    "# !pip install openpyxl"
   ]
  },
  {
   "cell_type": "code",
   "execution_count": 31,
   "metadata": {},
   "outputs": [],
   "source": [
    "data = pd.read_excel(\"customer_data.xlsx\")"
   ]
  },
  {
   "cell_type": "code",
   "execution_count": 32,
   "metadata": {},
   "outputs": [
    {
     "data": {
      "text/plain": [
       "array(['Client_ID', 'Age_Category', 'State', 'Annual_Income',\n",
       "       'Source_of_Income', 'Investment_Amount', 'Dependents',\n",
       "       'Expected_ROI'], dtype=object)"
      ]
     },
     "execution_count": 32,
     "metadata": {},
     "output_type": "execute_result"
    }
   ],
   "source": [
    "data.columns.values"
   ]
  },
  {
   "cell_type": "code",
   "execution_count": 33,
   "metadata": {},
   "outputs": [
    {
     "name": "stdout",
     "output_type": "stream",
     "text": [
      "Client_ID             int64\n",
      "Age_Category         object\n",
      "State                object\n",
      "Annual_Income         int64\n",
      "Source_of_Income     object\n",
      "Investment_Amount     int64\n",
      "Dependents            int64\n",
      "Expected_ROI         object\n",
      "dtype: object\n"
     ]
    }
   ],
   "source": [
    "print(data.dtypes)"
   ]
  },
  {
   "cell_type": "code",
   "execution_count": 34,
   "metadata": {},
   "outputs": [],
   "source": [
    "data['Age_Category'] = data['Age_Category'].astype(str)"
   ]
  },
  {
   "cell_type": "code",
   "execution_count": 35,
   "metadata": {},
   "outputs": [],
   "source": [
    "# data['AGE_BUCKET'] = pd.cut(data.Age_Category, [0,30,40,50,60,999] , labels = [1, 2, 3, 4, 5])\n",
    "# Define a function to map Age_Category to numerical categories\n",
    "def map_age_category(age_str):\n",
    "    if age_str == '<30':\n",
    "        return 1\n",
    "    elif age_str == '30-40':\n",
    "        return 2\n",
    "    elif age_str == '40-50':\n",
    "        return 3\n",
    "    elif age_str == '50-60':\n",
    "        return 4\n",
    "    elif age_str == '>60':\n",
    "        return 5\n",
    "    else:\n",
    "        return None  # Handle unexpected values\n",
    "\n",
    "# Apply the mapping function to the Age_Category column\n",
    "data['AGE_BUCKET'] = data['Age_Category'].apply(map_age_category)\n"
   ]
  },
  {
   "cell_type": "code",
   "execution_count": 36,
   "metadata": {},
   "outputs": [],
   "source": [
    "list = []\n",
    "for i in data['Expected_ROI']:\n",
    "    if i == '<10%':\n",
    "        list.append(4)\n",
    "    elif i == '10-15%':\n",
    "        list.append(3)  \n",
    "    elif i == '15-25%':\n",
    "        list.append(2)   \n",
    "    else:\n",
    "        list.append(1)    \n",
    "          \n",
    "data['TARGET_BUCKET'] = list      "
   ]
  },
  {
   "cell_type": "code",
   "execution_count": 37,
   "metadata": {},
   "outputs": [],
   "source": [
    "for i in data['AGE_BUCKET']:\n",
    "    if i==1:\n",
    "            data['Max_Investment'] = 0.6 * data['Annual_Income']\n",
    "    elif i==2:\n",
    "             data['Max_Investment'] = 0.5 * data['Annual_Income']\n",
    "    elif i==3:\n",
    "             data['Max_Investment'] = 0.3 * data['Annual_Income']\n",
    "    elif i==4:\n",
    "            data['Max_Investment'] = 0.2 * data['Annual_Income']\n",
    "    else:\n",
    "            data['Max_Investment'] = 0.1 * data['Annual_Income']"
   ]
  },
  {
   "cell_type": "code",
   "execution_count": 38,
   "metadata": {},
   "outputs": [
    {
     "data": {
      "text/html": [
       "<div>\n",
       "<style scoped>\n",
       "    .dataframe tbody tr th:only-of-type {\n",
       "        vertical-align: middle;\n",
       "    }\n",
       "\n",
       "    .dataframe tbody tr th {\n",
       "        vertical-align: top;\n",
       "    }\n",
       "\n",
       "    .dataframe thead th {\n",
       "        text-align: right;\n",
       "    }\n",
       "</style>\n",
       "<table border=\"1\" class=\"dataframe\">\n",
       "  <thead>\n",
       "    <tr style=\"text-align: right;\">\n",
       "      <th></th>\n",
       "      <th>Client_ID</th>\n",
       "      <th>Age_Category</th>\n",
       "      <th>State</th>\n",
       "      <th>Annual_Income</th>\n",
       "      <th>Source_of_Income</th>\n",
       "      <th>Investment_Amount</th>\n",
       "      <th>Dependents</th>\n",
       "      <th>Expected_ROI</th>\n",
       "      <th>AGE_BUCKET</th>\n",
       "      <th>TARGET_BUCKET</th>\n",
       "      <th>Max_Investment</th>\n",
       "    </tr>\n",
       "  </thead>\n",
       "  <tbody>\n",
       "    <tr>\n",
       "      <th>0</th>\n",
       "      <td>1</td>\n",
       "      <td>50-60</td>\n",
       "      <td>Karnataka</td>\n",
       "      <td>3085317</td>\n",
       "      <td>Corporate employee</td>\n",
       "      <td>625000</td>\n",
       "      <td>2</td>\n",
       "      <td>15-25%</td>\n",
       "      <td>4</td>\n",
       "      <td>2</td>\n",
       "      <td>925,595.10</td>\n",
       "    </tr>\n",
       "    <tr>\n",
       "      <th>1</th>\n",
       "      <td>2</td>\n",
       "      <td>&gt;60</td>\n",
       "      <td>Haryana</td>\n",
       "      <td>3859127</td>\n",
       "      <td>self employed</td>\n",
       "      <td>2013889</td>\n",
       "      <td>2</td>\n",
       "      <td>&gt;25%</td>\n",
       "      <td>5</td>\n",
       "      <td>1</td>\n",
       "      <td>1,157,738.10</td>\n",
       "    </tr>\n",
       "    <tr>\n",
       "      <th>2</th>\n",
       "      <td>3</td>\n",
       "      <td>30-40</td>\n",
       "      <td>Maharashtra</td>\n",
       "      <td>2351190</td>\n",
       "      <td>Business</td>\n",
       "      <td>446429</td>\n",
       "      <td>3</td>\n",
       "      <td>15-25%</td>\n",
       "      <td>2</td>\n",
       "      <td>2</td>\n",
       "      <td>705,357.00</td>\n",
       "    </tr>\n",
       "    <tr>\n",
       "      <th>3</th>\n",
       "      <td>4</td>\n",
       "      <td>40-50</td>\n",
       "      <td>Kerala</td>\n",
       "      <td>2192460</td>\n",
       "      <td>Corporate employee</td>\n",
       "      <td>505952</td>\n",
       "      <td>3</td>\n",
       "      <td>15-25%</td>\n",
       "      <td>3</td>\n",
       "      <td>2</td>\n",
       "      <td>657,738.00</td>\n",
       "    </tr>\n",
       "    <tr>\n",
       "      <th>4</th>\n",
       "      <td>5</td>\n",
       "      <td>40-50</td>\n",
       "      <td>Kerala</td>\n",
       "      <td>2192460</td>\n",
       "      <td>Corporate employee</td>\n",
       "      <td>505952</td>\n",
       "      <td>3</td>\n",
       "      <td>15-25%</td>\n",
       "      <td>3</td>\n",
       "      <td>2</td>\n",
       "      <td>657,738.00</td>\n",
       "    </tr>\n",
       "  </tbody>\n",
       "</table>\n",
       "</div>"
      ],
      "text/plain": [
       "   Client_ID Age_Category        State  Annual_Income    Source_of_Income  \\\n",
       "0          1        50-60    Karnataka        3085317  Corporate employee   \n",
       "1          2          >60      Haryana        3859127       self employed   \n",
       "2          3        30-40  Maharashtra        2351190            Business   \n",
       "3          4        40-50       Kerala        2192460  Corporate employee   \n",
       "4          5        40-50       Kerala        2192460  Corporate employee   \n",
       "\n",
       "   Investment_Amount  Dependents Expected_ROI  AGE_BUCKET  TARGET_BUCKET  \\\n",
       "0             625000           2       15-25%           4              2   \n",
       "1            2013889           2         >25%           5              1   \n",
       "2             446429           3       15-25%           2              2   \n",
       "3             505952           3       15-25%           3              2   \n",
       "4             505952           3       15-25%           3              2   \n",
       "\n",
       "        Max_Investment  \n",
       "0           925,595.10  \n",
       "1         1,157,738.10  \n",
       "2           705,357.00  \n",
       "3           657,738.00  \n",
       "4           657,738.00  "
      ]
     },
     "execution_count": 38,
     "metadata": {},
     "output_type": "execute_result"
    }
   ],
   "source": [
    "data.head()"
   ]
  },
  {
   "cell_type": "code",
   "execution_count": 39,
   "metadata": {},
   "outputs": [],
   "source": [
    "data['Inv_Ratio'] = data['Max_Investment']/data['Investment_Amount']"
   ]
  },
  {
   "cell_type": "code",
   "execution_count": 40,
   "metadata": {},
   "outputs": [],
   "source": [
    "data['Risk_Score_N'] = 1 - ((data['Dependents']*3 + data['Inv_Ratio']*4\n",
    "                             + data['AGE_BUCKET']*3)*data['TARGET_BUCKET'])/100"
   ]
  },
  {
   "cell_type": "code",
   "execution_count": 41,
   "metadata": {},
   "outputs": [
    {
     "name": "stdout",
     "output_type": "stream",
     "text": [
      "0                   0.52\n",
      "1                   0.77\n",
      "2                   0.57\n",
      "3                   0.54\n",
      "4                   0.54\n",
      "5                   0.54\n",
      "6                   0.52\n",
      "7                   0.57\n",
      "Name: Risk_Score_N, dtype: float64\n"
     ]
    }
   ],
   "source": [
    "print(data['Risk_Score_N'])"
   ]
  },
  {
   "cell_type": "code",
   "execution_count": 42,
   "metadata": {},
   "outputs": [],
   "source": [
    "list = []\n",
    "for i in abs(data['Risk_Score_N']):\n",
    "    if i <= 0.2:\n",
    "        list.append('Conservative')\n",
    "    elif i <= 0.4:\n",
    "        list.append('Moderatively Conservative')  \n",
    "    elif i <= 0.6:\n",
    "        list.append('Moderatively Aggresive')    \n",
    "    elif i <= 0.8:\n",
    "        list.append('Aggresive')   \n",
    "    else:\n",
    "        list.append('Very Aggresive')    \n",
    "          \n",
    "data['Risk Profile'] = list      "
   ]
  },
  {
   "cell_type": "code",
   "execution_count": 43,
   "metadata": {},
   "outputs": [
    {
     "data": {
      "text/plain": [
       "Risk Profile\n",
       "Moderatively Aggresive    7\n",
       "Aggresive                 1\n",
       "Name: count, dtype: int64"
      ]
     },
     "execution_count": 43,
     "metadata": {},
     "output_type": "execute_result"
    }
   ],
   "source": [
    "data['Risk Profile'].value_counts()"
   ]
  },
  {
   "cell_type": "code",
   "execution_count": 44,
   "metadata": {},
   "outputs": [
    {
     "data": {
      "text/html": [
       "<div>\n",
       "<style scoped>\n",
       "    .dataframe tbody tr th:only-of-type {\n",
       "        vertical-align: middle;\n",
       "    }\n",
       "\n",
       "    .dataframe tbody tr th {\n",
       "        vertical-align: top;\n",
       "    }\n",
       "\n",
       "    .dataframe thead th {\n",
       "        text-align: right;\n",
       "    }\n",
       "</style>\n",
       "<table border=\"1\" class=\"dataframe\">\n",
       "  <thead>\n",
       "    <tr style=\"text-align: right;\">\n",
       "      <th></th>\n",
       "      <th>Client_ID</th>\n",
       "      <th>Age_Category</th>\n",
       "      <th>State</th>\n",
       "      <th>Annual_Income</th>\n",
       "      <th>Source_of_Income</th>\n",
       "      <th>Investment_Amount</th>\n",
       "      <th>Dependents</th>\n",
       "      <th>Expected_ROI</th>\n",
       "      <th>AGE_BUCKET</th>\n",
       "      <th>TARGET_BUCKET</th>\n",
       "      <th>Max_Investment</th>\n",
       "      <th>Inv_Ratio</th>\n",
       "      <th>Risk_Score_N</th>\n",
       "      <th>Risk Profile</th>\n",
       "    </tr>\n",
       "  </thead>\n",
       "  <tbody>\n",
       "    <tr>\n",
       "      <th>0</th>\n",
       "      <td>1</td>\n",
       "      <td>50-60</td>\n",
       "      <td>Karnataka</td>\n",
       "      <td>3085317</td>\n",
       "      <td>Corporate employee</td>\n",
       "      <td>625000</td>\n",
       "      <td>2</td>\n",
       "      <td>15-25%</td>\n",
       "      <td>4</td>\n",
       "      <td>2</td>\n",
       "      <td>925,595.10</td>\n",
       "      <td>1.48</td>\n",
       "      <td>0.52</td>\n",
       "      <td>Moderatively Aggresive</td>\n",
       "    </tr>\n",
       "    <tr>\n",
       "      <th>1</th>\n",
       "      <td>2</td>\n",
       "      <td>&gt;60</td>\n",
       "      <td>Haryana</td>\n",
       "      <td>3859127</td>\n",
       "      <td>self employed</td>\n",
       "      <td>2013889</td>\n",
       "      <td>2</td>\n",
       "      <td>&gt;25%</td>\n",
       "      <td>5</td>\n",
       "      <td>1</td>\n",
       "      <td>1,157,738.10</td>\n",
       "      <td>0.57</td>\n",
       "      <td>0.77</td>\n",
       "      <td>Aggresive</td>\n",
       "    </tr>\n",
       "    <tr>\n",
       "      <th>2</th>\n",
       "      <td>3</td>\n",
       "      <td>30-40</td>\n",
       "      <td>Maharashtra</td>\n",
       "      <td>2351190</td>\n",
       "      <td>Business</td>\n",
       "      <td>446429</td>\n",
       "      <td>3</td>\n",
       "      <td>15-25%</td>\n",
       "      <td>2</td>\n",
       "      <td>2</td>\n",
       "      <td>705,357.00</td>\n",
       "      <td>1.58</td>\n",
       "      <td>0.57</td>\n",
       "      <td>Moderatively Aggresive</td>\n",
       "    </tr>\n",
       "    <tr>\n",
       "      <th>3</th>\n",
       "      <td>4</td>\n",
       "      <td>40-50</td>\n",
       "      <td>Kerala</td>\n",
       "      <td>2192460</td>\n",
       "      <td>Corporate employee</td>\n",
       "      <td>505952</td>\n",
       "      <td>3</td>\n",
       "      <td>15-25%</td>\n",
       "      <td>3</td>\n",
       "      <td>2</td>\n",
       "      <td>657,738.00</td>\n",
       "      <td>1.30</td>\n",
       "      <td>0.54</td>\n",
       "      <td>Moderatively Aggresive</td>\n",
       "    </tr>\n",
       "    <tr>\n",
       "      <th>4</th>\n",
       "      <td>5</td>\n",
       "      <td>40-50</td>\n",
       "      <td>Kerala</td>\n",
       "      <td>2192460</td>\n",
       "      <td>Corporate employee</td>\n",
       "      <td>505952</td>\n",
       "      <td>3</td>\n",
       "      <td>15-25%</td>\n",
       "      <td>3</td>\n",
       "      <td>2</td>\n",
       "      <td>657,738.00</td>\n",
       "      <td>1.30</td>\n",
       "      <td>0.54</td>\n",
       "      <td>Moderatively Aggresive</td>\n",
       "    </tr>\n",
       "  </tbody>\n",
       "</table>\n",
       "</div>"
      ],
      "text/plain": [
       "   Client_ID Age_Category        State  Annual_Income    Source_of_Income  \\\n",
       "0          1        50-60    Karnataka        3085317  Corporate employee   \n",
       "1          2          >60      Haryana        3859127       self employed   \n",
       "2          3        30-40  Maharashtra        2351190            Business   \n",
       "3          4        40-50       Kerala        2192460  Corporate employee   \n",
       "4          5        40-50       Kerala        2192460  Corporate employee   \n",
       "\n",
       "   Investment_Amount  Dependents Expected_ROI  AGE_BUCKET  TARGET_BUCKET  \\\n",
       "0             625000           2       15-25%           4              2   \n",
       "1            2013889           2         >25%           5              1   \n",
       "2             446429           3       15-25%           2              2   \n",
       "3             505952           3       15-25%           3              2   \n",
       "4             505952           3       15-25%           3              2   \n",
       "\n",
       "        Max_Investment            Inv_Ratio         Risk_Score_N  \\\n",
       "0           925,595.10                 1.48                 0.52   \n",
       "1         1,157,738.10                 0.57                 0.77   \n",
       "2           705,357.00                 1.58                 0.57   \n",
       "3           657,738.00                 1.30                 0.54   \n",
       "4           657,738.00                 1.30                 0.54   \n",
       "\n",
       "             Risk Profile  \n",
       "0  Moderatively Aggresive  \n",
       "1               Aggresive  \n",
       "2  Moderatively Aggresive  \n",
       "3  Moderatively Aggresive  \n",
       "4  Moderatively Aggresive  "
      ]
     },
     "execution_count": 44,
     "metadata": {},
     "output_type": "execute_result"
    }
   ],
   "source": [
    "data.head()"
   ]
  },
  {
   "cell_type": "code",
   "execution_count": 45,
   "metadata": {},
   "outputs": [],
   "source": [
    "# data[data['Risk Profile'] == 'Very Aggresive']"
   ]
  },
  {
   "cell_type": "code",
   "execution_count": 46,
   "metadata": {},
   "outputs": [],
   "source": [
    "data['Amt_Investment'] = data[['Investment_Amount','Max_Investment']].min(axis=1)"
   ]
  },
  {
   "cell_type": "code",
   "execution_count": 47,
   "metadata": {},
   "outputs": [
    {
     "data": {
      "text/plain": [
       "(8, 15)"
      ]
     },
     "execution_count": 47,
     "metadata": {},
     "output_type": "execute_result"
    }
   ],
   "source": [
    "data.shape"
   ]
  },
  {
   "cell_type": "code",
   "execution_count": 48,
   "metadata": {},
   "outputs": [],
   "source": [
    "# def get_company_list(dat1,dat2,col1,col2):\n",
    "    \n",
    "#     list = []\n",
    "    \n",
    "#     for i in dat1[col1]:\n",
    "#         dat_1 = dat1[dat1[col1] == i]\n",
    "#         for j in dat_1[col2]:\n",
    "#             dat_2 = dat2[dat2[col2] == j][['Name', 'BSE Code', 'NSE Code', 'Industry', 'Current Price','Company_Rank']].sort_values(\"Company_Rank\").head(10)\n",
    "#             dat_2 = dat_2.sample(frac = 0.5)\n",
    "#             dat_2['Client Id'] = dat_1['Client Id'] \n",
    "#             dat_2['Customer Name'] = dat_1['Name'] \n",
    "#             dat_2['Amt_Investment'] = dat_1['Amt_Investment'] \n",
    "#             dat_2 = dat_2[['Client Id','Customer Name','Amt_Investment','Name','BSE Code', 'NSE Code', 'Industry', 'Current Price']]\n",
    "#             return dat_2 \n",
    "# # pd.concat(dat1[['Client Id','Name','Amt_Investment']],dat_2)   "
   ]
  },
  {
   "cell_type": "code",
   "execution_count": 49,
   "metadata": {},
   "outputs": [],
   "source": [
    "def get_company_list(dat1,dat2,col1,col2):\n",
    "    \n",
    "    list = []\n",
    "    \n",
    "    for i in dat1[col1]:\n",
    "        print(i)\n",
    "        dat_1 = dat1[dat1[col1] == i]\n",
    "        print(dat_1['Client_ID'])\n",
    "        for j in dat_1[col2]:\n",
    "#             print(j)\n",
    "            dat_2 = dat2[dat2[col2] == j][[ 'Name','BSE Code', 'NSE Code', 'Industry', 'Current Price','Risk Profile','Company_Rank']].sort_values(\"Company_Rank\").head(10)\n",
    "            dat_2 = dat_2.sample(frac = 0.5).reset_index(drop = True)\n",
    "#             dat_2['Client Id'] = dat_1['Client Id'] \n",
    "#             dat_2['Customer Name'] = dat_1['Name'] \n",
    "#             dat_2['Amt_Investment'] = dat_1['Amt_Investment'] \n",
    "#             dat_2 = dat_2[['Client Id','Customer Name','Amt_Investment','Name','BSE Code', 'NSE Code', 'Industry', 'Current Price']]\n",
    "#         dat_2['Client Id'] = dat_1['Client Id'] \n",
    "#         dat_2['Customer Name'] = dat_1['Name'] \n",
    "#         dat_2['Amt_Investment'] = dat_1['Amt_Investment'] \n",
    "#         dat_2 = dat_2[['Client Id','Customer Name','Amt_Investment','Name','BSE Code', 'NSE Code', 'Industry', 'Current Price']]\n",
    "            \n",
    "        return dat_2 "
   ]
  },
  {
   "cell_type": "code",
   "execution_count": 50,
   "metadata": {},
   "outputs": [],
   "source": [
    "data_comp = pd.read_csv(\"Data_Companies.csv\")"
   ]
  },
  {
   "cell_type": "code",
   "execution_count": 51,
   "metadata": {},
   "outputs": [
    {
     "name": "stdout",
     "output_type": "stream",
     "text": [
      "1\n",
      "0    1\n",
      "Name: Client_ID, dtype: int64\n"
     ]
    }
   ],
   "source": [
    "results = get_company_list(data,data_comp,'Client_ID','Risk Profile').sort_values(\"Company_Rank\").head(10)"
   ]
  },
  {
   "cell_type": "code",
   "execution_count": 52,
   "metadata": {},
   "outputs": [
    {
     "data": {
      "text/html": [
       "<div>\n",
       "<style scoped>\n",
       "    .dataframe tbody tr th:only-of-type {\n",
       "        vertical-align: middle;\n",
       "    }\n",
       "\n",
       "    .dataframe tbody tr th {\n",
       "        vertical-align: top;\n",
       "    }\n",
       "\n",
       "    .dataframe thead th {\n",
       "        text-align: right;\n",
       "    }\n",
       "</style>\n",
       "<table border=\"1\" class=\"dataframe\">\n",
       "  <thead>\n",
       "    <tr style=\"text-align: right;\">\n",
       "      <th></th>\n",
       "      <th>Name</th>\n",
       "      <th>BSE Code</th>\n",
       "      <th>NSE Code</th>\n",
       "      <th>Industry</th>\n",
       "      <th>Current Price</th>\n",
       "      <th>Risk Profile</th>\n",
       "      <th>Company_Rank</th>\n",
       "    </tr>\n",
       "  </thead>\n",
       "  <tbody>\n",
       "    <tr>\n",
       "      <th>0</th>\n",
       "      <td>Oracle Fin.Serv.</td>\n",
       "      <td>532466</td>\n",
       "      <td>OFSS</td>\n",
       "      <td>Computers - Software - Medium / Small</td>\n",
       "      <td>3,075.10</td>\n",
       "      <td>Moderatively Aggresive</td>\n",
       "      <td>1.00</td>\n",
       "    </tr>\n",
       "    <tr>\n",
       "      <th>3</th>\n",
       "      <td>Axis Bank</td>\n",
       "      <td>532215</td>\n",
       "      <td>AXISBANK</td>\n",
       "      <td>Banks - Private Sector</td>\n",
       "      <td>859.20</td>\n",
       "      <td>Moderatively Aggresive</td>\n",
       "      <td>2.00</td>\n",
       "    </tr>\n",
       "    <tr>\n",
       "      <th>4</th>\n",
       "      <td>APL Apollo Tubes</td>\n",
       "      <td>533758</td>\n",
       "      <td>APLAPOLLO</td>\n",
       "      <td>Steel - Large</td>\n",
       "      <td>1,081.70</td>\n",
       "      <td>Moderatively Aggresive</td>\n",
       "      <td>7.00</td>\n",
       "    </tr>\n",
       "    <tr>\n",
       "      <th>1</th>\n",
       "      <td>Bharti Airtel</td>\n",
       "      <td>532454</td>\n",
       "      <td>BHARTIARTL</td>\n",
       "      <td>Telecommunications - Service Provider</td>\n",
       "      <td>837.30</td>\n",
       "      <td>Moderatively Aggresive</td>\n",
       "      <td>9.00</td>\n",
       "    </tr>\n",
       "    <tr>\n",
       "      <th>2</th>\n",
       "      <td>Divi's Lab.</td>\n",
       "      <td>532488</td>\n",
       "      <td>DIVISLAB</td>\n",
       "      <td>Pharmaceuticals - Indian - Bulk Drugs</td>\n",
       "      <td>3,287.35</td>\n",
       "      <td>Moderatively Aggresive</td>\n",
       "      <td>10.00</td>\n",
       "    </tr>\n",
       "  </tbody>\n",
       "</table>\n",
       "</div>"
      ],
      "text/plain": [
       "               Name  BSE Code    NSE Code  \\\n",
       "0  Oracle Fin.Serv.    532466        OFSS   \n",
       "3         Axis Bank    532215    AXISBANK   \n",
       "4  APL Apollo Tubes    533758   APLAPOLLO   \n",
       "1     Bharti Airtel    532454  BHARTIARTL   \n",
       "2       Divi's Lab.    532488    DIVISLAB   \n",
       "\n",
       "                                Industry        Current Price  \\\n",
       "0  Computers - Software - Medium / Small             3,075.10   \n",
       "3                 Banks - Private Sector               859.20   \n",
       "4                          Steel - Large             1,081.70   \n",
       "1  Telecommunications - Service Provider               837.30   \n",
       "2  Pharmaceuticals - Indian - Bulk Drugs             3,287.35   \n",
       "\n",
       "             Risk Profile         Company_Rank  \n",
       "0  Moderatively Aggresive                 1.00  \n",
       "3  Moderatively Aggresive                 2.00  \n",
       "4  Moderatively Aggresive                 7.00  \n",
       "1  Moderatively Aggresive                 9.00  \n",
       "2  Moderatively Aggresive                10.00  "
      ]
     },
     "execution_count": 52,
     "metadata": {},
     "output_type": "execute_result"
    }
   ],
   "source": [
    "results"
   ]
  },
  {
   "cell_type": "code",
   "execution_count": null,
   "metadata": {},
   "outputs": [],
   "source": []
  }
 ],
 "metadata": {
  "kernelspec": {
   "display_name": "Python 3",
   "language": "python",
   "name": "python3"
  },
  "language_info": {
   "codemirror_mode": {
    "name": "ipython",
    "version": 3
   },
   "file_extension": ".py",
   "mimetype": "text/x-python",
   "name": "python",
   "nbconvert_exporter": "python",
   "pygments_lexer": "ipython3",
   "version": "3.11.9"
  }
 },
 "nbformat": 4,
 "nbformat_minor": 2
}
